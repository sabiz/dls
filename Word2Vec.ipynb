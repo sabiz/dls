{
 "cells": [
  {
   "cell_type": "markdown",
   "metadata": {},
   "source": [
    "# 学習済みDoc2Vec\n",
    " [東北大学 乾・岡崎研究室](http://www.cl.ecei.tohoku.ac.jp/~m-suzuki/jawiki_vector/)"
   ]
  },
  {
   "cell_type": "code",
   "execution_count": 34,
   "metadata": {},
   "outputs": [],
   "source": [
    "# モデルのロード\n",
    "from gensim.models import KeyedVectors\n",
    "\n",
    "model = KeyedVectors.load_word2vec_format(\"./entity_vector.model.bin\", binary = True)"
   ]
  },
  {
   "cell_type": "code",
   "execution_count": 118,
   "metadata": {},
   "outputs": [
    {
     "data": {
      "text/plain": [
       "[('[人工知能]', 0.7434442639350891),\n",
       " ('人工知能', 0.7312119007110596),\n",
       " ('[ニュータイプ]', 0.657990574836731),\n",
       " ('VR', 0.6521696448326111),\n",
       " ('NT', 0.6502192616462708),\n",
       " ('ACE', 0.6442808508872986),\n",
       " ('ESP', 0.6403138637542725),\n",
       " ('VF', 0.6383984684944153),\n",
       " ('MS', 0.6361158490180969),\n",
       " ('[メタルギア]', 0.635594367980957)]"
      ]
     },
     "execution_count": 118,
     "metadata": {},
     "output_type": "execute_result"
    }
   ],
   "source": [
    "model.most_similar('AI')\n",
    "#model.similarity('質問','おにぎり')"
   ]
  },
  {
   "cell_type": "code",
   "execution_count": 194,
   "metadata": {},
   "outputs": [],
   "source": [
    "import MeCab\n",
    "import re\n",
    "def toWakatiki(doc):\n",
    "    # Execute wakati / mecab-ipadic-neologd\n",
    "    tagger = MeCab.Tagger(\"-d /usr/lib/mecab/dic/mecab-ipadic-neologd\")\n",
    "    tagger.parse('')\n",
    "    node = tagger.parseToNode(doc)\n",
    "    #代名詞はずす？\n",
    "    excludeList = [\"数\", \"接尾\", \"非自立\", \"代名詞\", \"形容動詞語幹\",\"固有名詞\"]\n",
    "    result = []\n",
    "    fullresult = []\n",
    "    node = node.next\n",
    "    while node:\n",
    "        meta = node.feature.split(\",\")\n",
    "        if meta[0] == \"名詞\" and not meta[1] in excludeList :\n",
    "            #print(node.feature)\n",
    "            #print(node.surface)\n",
    "            result.append(node.surface)\n",
    "        fullresult.append(node.surface)\n",
    "        node = node.next\n",
    "    return fullresult,result"
   ]
  },
  {
   "cell_type": "code",
   "execution_count": 195,
   "metadata": {
    "collapsed": true
   },
   "outputs": [],
   "source": [
    "from sklearn.feature_extraction.text import TfidfVectorizer\n",
    "def calcTfIdf(doc):\n",
    "    vectorizer = TfidfVectorizer()\n",
    "    tfidf = vectorizer.fit_transform(doc)\n",
    "    return tfidf.toarray()"
   ]
  },
  {
   "cell_type": "code",
   "execution_count": 196,
   "metadata": {
    "collapsed": true
   },
   "outputs": [],
   "source": [
    "def doRecord(doc):\n",
    "    fulltokens,tokens = toWakatiki(doc)\n",
    "    print(tokens)\n",
    "    for token in tokens:\n",
    "        print(token)\n",
    "        k = model.similarity(token, \"課題\")\n",
    "        print(\"課題: {}\".format(k))\n",
    "        t = model.similarity(token, \"Todo\")\n",
    "        print(\"Todo: {}\".format(t))\n",
    "        s = model.similarity(token, \"質問\")\n",
    "        print(\"質問: {}\".format(s))\n",
    "        print(\"----------------------\")\n",
    "    # TODO\n",
    "    # 特徴量を計算　（文章単位/fulltokens）\n",
    "    # 課題,アクションアイテム,QA　それぞれを　単語単位で word2vecで類似度を計算　（単語単位/ tokens）\n",
    "    # 特徴量と加重平均をとる "
   ]
  },
  {
   "cell_type": "code",
   "execution_count": 197,
   "metadata": {},
   "outputs": [
    {
     "name": "stdout",
     "output_type": "stream",
     "text": [
      "['購入', '家庭', '返送', '顧客', '苦情', 'インターネット', '配送', 'トラブル']\n",
      "購入\n",
      "課題: -0.06592142764670424\n",
      "Todo: -0.09139430059462317\n",
      "質問: 0.19873299029003808\n",
      "----------------------\n",
      "家庭\n",
      "課題: 0.11880532338708663\n",
      "Todo: 0.058035967513357656\n",
      "質問: 0.11463788287599175\n",
      "----------------------\n",
      "返送\n",
      "課題: -0.014542305423759672\n",
      "Todo: -0.004281704331715477\n",
      "質問: 0.37966018616446295\n",
      "----------------------\n",
      "顧客\n",
      "課題: 0.2928941684878504\n",
      "Todo: -0.046859617755026256\n",
      "質問: 0.2860784433962555\n",
      "----------------------\n",
      "苦情\n",
      "課題: 0.2683449052186767\n",
      "Todo: -0.009229388445386334\n",
      "質問: 0.5371638378946675\n",
      "----------------------\n",
      "インターネット\n",
      "課題: 0.18281851402355753\n",
      "Todo: 0.09548829556186442\n",
      "質問: 0.2883995177995573\n",
      "----------------------\n",
      "配送\n",
      "課題: 0.1273973736930596\n",
      "Todo: -0.03422310338240518\n",
      "質問: 0.2626666704106597\n",
      "----------------------\n",
      "トラブル\n",
      "課題: 0.36882865629936584\n",
      "Todo: -0.03284631220724334\n",
      "質問: 0.26439980923026996\n",
      "----------------------\n"
     ]
    }
   ],
   "source": [
    "doRecord(\"アマゾンジャパンの通販サイトで購入した任天堂の家庭用ゲーム機が届かないまま返送されたとの顧客の苦情が、インターネットの投稿サイトなどに相次ぎ寄せられたことが７日、分かった。配送トラブルの可能性がある。\")\n",
    "#doRecord(\"「ほんやくコンニャク」は、見た目こそコンニャクそのものだが、これを食べると、外国語を自国語として聞き取れるようになり、話し言葉も自動的に話し相手の言語に翻訳されるため、言葉の通じない相手と会話できるようになる。\")\n",
    "#doRecord(\"発表された車種リストには、同じ車種だがレースカテゴリやクラスごとに異なるマシンも含まれている。詳しくは下のビデオをご覧いただきたい。\")\n",
    "#doRecord(\"その目的は、国土交通省に申請・届出した通りに生産されているかどうかを確認すること。\")\n",
    "#doRecord(\"　Struts2にリモートコード実行の脆弱性が多いのは、内部で「OGNL」というライブラリを利用しているためだ。OGNLは、Javaに似たコードをコンパイルなしで実行する。Struts2ではデータの処理にOGNLを多用している。このため、Struts2に脆弱性があると、例えば攻撃者がHTTPリクエストに埋め込んだ悪意のあるコードがOGNLによって実行されてしまう。\")\n",
    "#doRecord(\"いずれにしても、新iPhoneを買うべきなのかどうか、あるいはもし買うならどちらか、逡巡している人はまだ多いのかもしれない。\")\n",
    "#doRecord(\"デザインも存在感が少なく、日本の家庭にはこちらの方がはるかに適していると言えるのではないか。\")\n",
    "#doRecord(\"AIが最重要技術であるとはいえ、AIの活用に関しては問題が山積した状態です。例えば、フェイクニュースの問題は、検索サービスやニュース記事サービスを提供するGoogleにとって解決すべき喫緊の課題で、AIを活用することで誤った情報を排除して質の高いものだけを選別する試みが行われています。\")"
   ]
  },
  {
   "cell_type": "code",
   "execution_count": null,
   "metadata": {
    "collapsed": true
   },
   "outputs": [],
   "source": []
  },
  {
   "cell_type": "code",
   "execution_count": null,
   "metadata": {
    "collapsed": true
   },
   "outputs": [],
   "source": []
  }
 ],
 "metadata": {
  "kernelspec": {
   "display_name": "Python 3",
   "language": "python",
   "name": "python3"
  },
  "language_info": {
   "codemirror_mode": {
    "name": "ipython",
    "version": 3
   },
   "file_extension": ".py",
   "mimetype": "text/x-python",
   "name": "python",
   "nbconvert_exporter": "python",
   "pygments_lexer": "ipython3",
   "version": "3.6.1"
  }
 },
 "nbformat": 4,
 "nbformat_minor": 2
}
