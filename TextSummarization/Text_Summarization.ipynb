{
 "cells": [
  {
   "cell_type": "markdown",
   "metadata": {},
   "source": [
    "# Text Summarization\n",
    "\n",
    "https://qiita.com/icoxfog417/items/d06651db10e27220c819"
   ]
  },
  {
   "cell_type": "markdown",
   "metadata": {},
   "source": [
    "## 抽出型\n",
    "\n",
    "抽出型は、要約対象の文章の中から重要と思われる文を抽出して要約を作成するというアプローチです。\n",
    "\n",
    "* メリット： 元の文章中にある文を選択して要約を作成するため、まったく内容がつかめない要約になる可能性が低く、文法的におかしな要約になることもない  \n",
    "\n",
    "* デメリット： 文中にない単語を利用することはできないため、抽象化や言い換え、読みやすくするための接続詞の使用などができない。このため、作成された要約は粗雑な印象になる。\n"
   ]
  },
  {
   "cell_type": "markdown",
   "metadata": {},
   "source": [
    "### Graph Base\n",
    "\n",
    "文章をグラフ構造で表現し各ノード(=文や単語)の関係性を元に要約を作成する  \n",
    "代表的なアルゴリズムとしては、TextRankがあります。TextRankは、Google検索の基礎となっているPageRankという手法を文章に応用した手法"
   ]
  },
  {
   "cell_type": "markdown",
   "metadata": {},
   "source": [
    "### Feature Base\n",
    "\n",
    "文の特徴を定義して、その特徴による重みづけ(スコアリング)を行うことで文選択を行う\n",
    "\n",
    "https://github.com/xiaoxu193/PyTeaser"
   ]
  },
  {
   "cell_type": "markdown",
   "metadata": {},
   "source": [
    "### Topic Base\n",
    "\n",
    "文章のトピックを算出し、そのトピックに沿った文を選択する  \n",
    "重要なトピックに近い文を選択する、各トピックの代表文を選ぶ、などです。  \n",
    "\n",
    "http://blog.yuku-t.com/entry/20110623/1308810518"
   ]
  },
  {
   "cell_type": "markdown",
   "metadata": {},
   "source": [
    "## 抽象型\n",
    "\n",
    "抽象型は、人が要約を作成するときのように、文章の意味を汲み取ったうえで(=抽象化した上で)適切な要約を作成する手法です。\n",
    "\n",
    "* メリット： 元の文中にはない単語を自由に使って要約を作成できるため、より自然な要約を作成できる。また、要約の長さに対する自由度が大きい。\n",
    "\n",
    "* デメリット： 文法的に違和感がなく、また前後の文脈で不整合が生じないような自然な文を生成することが難しい。\n",
    "\n",
    "https://github.com/tensorflow/models/tree/master/research/textsum"
   ]
  },
  {
   "cell_type": "markdown",
   "metadata": {
    "collapsed": true
   },
   "source": [
    "# Sumy"
   ]
  },
  {
   "cell_type": "code",
   "execution_count": null,
   "metadata": {
    "collapsed": true
   },
   "outputs": [],
   "source": []
  }
 ],
 "metadata": {
  "kernelspec": {
   "display_name": "Python 3",
   "language": "python",
   "name": "python3"
  },
  "language_info": {
   "codemirror_mode": {
    "name": "ipython",
    "version": 3
   },
   "file_extension": ".py",
   "mimetype": "text/x-python",
   "name": "python",
   "nbconvert_exporter": "python",
   "pygments_lexer": "ipython3",
   "version": "3.6.1"
  }
 },
 "nbformat": 4,
 "nbformat_minor": 2
}
